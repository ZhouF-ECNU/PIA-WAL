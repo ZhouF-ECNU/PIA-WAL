{
 "cells": [
  {
   "cell_type": "code",
   "execution_count": 1,
   "metadata": {},
   "outputs": [],
   "source": [
    "from tensorflow.keras.layers import Input, Dense, Reshape, Flatten, Dropout\n",
    "from tensorflow.keras.layers import BatchNormalization, Activation, ZeroPadding2D\n",
    "# from tensorflow.keras.layers.advanced_activations import LeakyReLU\n",
    "# from tensorflow.keras.layers.convolutional import UpSampling2D, Conv2D\n",
    "from tensorflow.keras.models import Sequential, Model\n",
    "from tensorflow.keras.optimizers import RMSprop,Adam\n",
    "\n",
    "import tensorflow.keras.backend as K\n",
    "\n",
    "import matplotlib.pyplot as plt\n",
    "\n",
    "import sys\n",
    "import sklearn.datasets\n",
    "\n",
    "import numpy as np\n",
    "from functools import partial\n",
    "import random\n",
    "\n",
    "from tensorflow.keras import regularizers\n",
    "from tensorflow.keras import backend as K\n",
    "from tensorflow.keras.models import Model, load_model\n",
    "from tensorflow.keras.layers import Input, Dense\n",
    "from tensorflow.keras.optimizers import RMSprop\n",
    "from tensorflow.keras.callbacks import ModelCheckpoint, TensorBoard\n",
    "from sklearn.metrics import auc,roc_curve, precision_recall_curve, average_precision_score, roc_auc_score\n",
    "from sklearn.metrics import confusion_matrix,classification_report,f1_score\n",
    "from scipy.stats import norm\n",
    "from sklearn import preprocessing"
   ]
  },
  {
   "cell_type": "code",
   "execution_count": 2,
   "metadata": {},
   "outputs": [],
   "source": [
    "from scipy.stats import multivariate_normal\n",
    "mean = (5, 5)\n",
    "cov = [[5, 0], [0, 5]]\n",
    "normal_data = np.random.multivariate_normal(mean,cov,30000)\n",
    "vandal_data_1 = np.random.multivariate_normal((0,0),[[0.6,0],[0,0.5]],50)\n",
    "vandal_data_2 = np.random.multivariate_normal((0,10),[[0.6,0],[0,0.5]],50)\n",
    "vandal_data_3 = np.random.multivariate_normal((10,0),[[0.6,0],[0,0.5]],50)\n",
    "vandal_data_4 = np.random.multivariate_normal((10,10),[[0.6,0],[0,0.5]],50)\n",
    "train_normal_data = normal_data[:15000]\n",
    "test_normal_data = normal_data[15000:]\n",
    "train_vandal_data = np.vstack((vandal_data_1[:20],vandal_data_2[:20],vandal_data_3[:20],vandal_data_4[:20]))\n",
    "test_vandal_data = np.vstack((vandal_data_1[20:],vandal_data_2[20:],vandal_data_3[20:],vandal_data_4[20:]))"
   ]
  },
  {
   "cell_type": "code",
   "execution_count": 3,
   "metadata": {},
   "outputs": [
    {
     "name": "stdout",
     "output_type": "stream",
     "text": [
      "(15080, 2) (15080,) (15120, 2) (15120,)\n"
     ]
    }
   ],
   "source": [
    "train_normal_label = np.zeros(len(train_normal_data))\n",
    "train_vandal_label = np.ones(len(train_vandal_data))\n",
    "\n",
    "train_data_x = np.vstack((train_normal_data,train_vandal_data))\n",
    "train_data_y = np.hstack((train_normal_label,train_vandal_label))\n",
    "\n",
    "test_normal_label = np.zeros(len(test_normal_data))\n",
    "test_vandal_label = np.ones(len(test_vandal_data))\n",
    "test_data_x = np.vstack((test_normal_data,test_vandal_data))\n",
    "test_data_y = np.hstack((test_normal_label,test_vandal_label))\n",
    "\n",
    "print(train_data_x.shape,train_data_y.shape,test_data_x.shape,test_data_y.shape)"
   ]
  },
  {
   "cell_type": "code",
   "execution_count": 4,
   "metadata": {},
   "outputs": [
    {
     "data": {
      "image/png": "[encoded data removed]",
      "text/plain": [
       "<Figure size 432x288 with 1 Axes>"
      ]
     },
     "metadata": {
      "needs_background": "light"
     },
     "output_type": "display_data"
    }
   ],
   "source": [
    "\n",
    "plt.scatter(train_normal_data[:, 0], train_normal_data[:, 1], c='orange',  marker='+')\n",
    "plt.scatter(train_vandal_data[:, 0], train_vandal_data[:, 1], c='blue',  marker='+')\n",
    "plt.show()"
   ]
  },
  {
   "cell_type": "code",
   "execution_count": null,
   "metadata": {},
   "outputs": [],
   "source": []
  },
  {
   "cell_type": "code",
   "execution_count": null,
   "metadata": {},
   "outputs": [],
   "source": []
  },
  {
   "cell_type": "markdown",
   "metadata": {},
   "source": [
    "# DevNet"
   ]
  },
  {
   "cell_type": "code",
   "execution_count": 5,
   "metadata": {},
   "outputs": [],
   "source": [
    "import random\n",
    "# Dataset iterator\n",
    "def inf_normal_train_gen(BATCH_SIZE,x_normal_data):\n",
    "    while True:\n",
    "#         np.random.shuffle(x_normal_data)\n",
    "        for i in range(int(len(x_normal_data)/BATCH_SIZE)):\n",
    "            yield x_normal_data[i*BATCH_SIZE:(i+1)*BATCH_SIZE]\n",
    "            \n",
    "# Dataset iterator\n",
    "def inf_vandal_train_gen(BATCH_SIZE,x_vandal_data):\n",
    "    while True:\n",
    "        np.random.shuffle(x_vandal_data)\n",
    "        dataset = []\n",
    "        for i in range(BATCH_SIZE):\n",
    "            dataset.append(random.choice(x_vandal_data))\n",
    "        dataset = np.array(dataset, dtype='float32')\n",
    "        yield dataset"
   ]
  },
  {
   "cell_type": "code",
   "execution_count": 6,
   "metadata": {},
   "outputs": [],
   "source": [
    "def deviation_loss(y_true, y_pred):\n",
    "    '''\n",
    "    z-score-based deviation loss\n",
    "    '''    \n",
    "    confidence_margin = 5.     \n",
    "    ## size=5000 is the setting of l in algorithm 1 in the paper\n",
    "    ref = K.variable(np.random.normal(loc = 0., scale= 1.0, size = 5000) , dtype='float32')\n",
    "    dev = (y_pred - K.mean(ref)) / K.std(ref)\n",
    "    inlier_loss = K.abs(dev) \n",
    "    outlier_loss = K.abs(K.maximum(confidence_margin - dev, 0.))\n",
    "    return (1 - y_true) * inlier_loss + y_true * outlier_loss"
   ]
  },
  {
   "cell_type": "code",
   "execution_count": 7,
   "metadata": {},
   "outputs": [],
   "source": [
    "def network(input_shape):\n",
    "    '''\n",
    "    network architecture with one hidden layer\n",
    "    '''\n",
    "    x_input = Input(shape=input_shape)\n",
    "    intermediate = Dense(20, activation='relu', \n",
    "                kernel_regularizer=regularizers.l2(0.01), name = 'hl1')(x_input)\n",
    "    intermediate = Dense(1, activation='linear',  name = 'score')(intermediate)    \n",
    "    return Model(x_input, intermediate)"
   ]
  },
  {
   "cell_type": "code",
   "execution_count": 8,
   "metadata": {},
   "outputs": [],
   "source": [
    "def anomaly_score_learner(input_shape):\n",
    "    '''\n",
    "    construct the deviation network-based detection model\n",
    "    '''\n",
    "    model = network(input_shape)\n",
    "    rms = RMSprop(clipnorm=1.)\n",
    "    model.compile(loss=deviation_loss, optimizer=rms)\n",
    "    return model"
   ]
  },
  {
   "cell_type": "code",
   "execution_count": 9,
   "metadata": {},
   "outputs": [],
   "source": [
    "def sample_shuffle_spv(X, labels):\n",
    "    n_samples = len(X)\n",
    "    s = np.arange(n_samples)\n",
    "    np.random.shuffle(s)\n",
    "    return np.array(X[s]), labels[s]"
   ]
  },
  {
   "cell_type": "code",
   "execution_count": 10,
   "metadata": {},
   "outputs": [],
   "source": [
    "def sample_shuffle_uspv(X, labels, weights):\n",
    "#     print(X.shape,labels.shape,weights.shape)\n",
    "    n_samples = len(X)\n",
    "    s = np.arange(n_samples)\n",
    "    np.random.shuffle(s)\n",
    "    return np.array(X[s]), labels[s], weights[s]"
   ]
  },
  {
   "cell_type": "code",
   "execution_count": 11,
   "metadata": {},
   "outputs": [],
   "source": [
    "def input_batch_generation_sup(x_train, outlier_indices, inlier_indices, batch_size, rng):\n",
    "    '''\n",
    "    batchs of samples. This is for csv data.\n",
    "    Alternates between positive and negative pairs.\n",
    "    '''      \n",
    "    dim = x_train.shape[1]\n",
    "    ref = np.empty((batch_size, dim))    \n",
    "    training_labels = []\n",
    "    n_inliers = len(inlier_indices)\n",
    "    n_outliers = len(outlier_indices)\n",
    "    for i in range(batch_size):    \n",
    "        if(i % 2 == 0):\n",
    "            sid = rng.choice(n_inliers, 1)\n",
    "            ref[i] = x_train[inlier_indices[sid]]\n",
    "            training_labels += [0]\n",
    "        else:\n",
    "            sid = rng.choice(n_outliers, 1)\n",
    "            ref[i] = x_train[outlier_indices[sid]]\n",
    "            training_labels += [1]\n",
    "    return np.array(ref), np.array(training_labels)\n",
    "\n",
    "\n",
    "def batch_generator_sup(x, outlier_indices, inlier_indices, batch_size, nb_batch, rng):\n",
    "    \"\"\"batch generator\n",
    "    \"\"\"\n",
    "    rng = np.random.RandomState(rng.randint(MAX_INT, size = 1))\n",
    "    counter = 0\n",
    "    while 1:                \n",
    "        ref, training_labels = input_batch_generation_sup(x, outlier_indices, inlier_indices, batch_size, rng)\n",
    "        counter += 1\n",
    "        yield(ref, training_labels)\n",
    "        if (counter > nb_batch):\n",
    "#             print(counter)\n",
    "            counter = 0"
   ]
  },
  {
   "cell_type": "code",
   "execution_count": 12,
   "metadata": {
    "scrolled": true
   },
   "outputs": [
    {
     "name": "stdout",
     "output_type": "stream",
     "text": [
      "WARNING:tensorflow:From C:\\Users\\ZWX\\anaconda3\\envs\\sqb\\lib\\site-packages\\tensorflow_core\\python\\ops\\resource_variable_ops.py:1630: calling BaseResourceVariable.__init__ (from tensorflow.python.ops.resource_variable_ops) with constraint is deprecated and will be removed in a future version.\n",
      "Instructions for updating:\n",
      "If using Keras pass *_constraint arguments to layers.\n",
      "Epoch 1/30\n",
      "WARNING:tensorflow:From C:\\Users\\ZWX\\anaconda3\\envs\\sqb\\lib\\site-packages\\tensorflow_core\\python\\ops\\math_grad.py:1424: where (from tensorflow.python.ops.array_ops) is deprecated and will be removed in a future version.\n",
      "Instructions for updating:\n",
      "Use tf.where in 2.0, which has the same broadcast rule as np.where\n",
      "117/117 [==============================] - 2s 20ms/step - loss: 3.7421\n",
      "Epoch 2/30\n",
      "117/117 [==============================] - 1s 11ms/step - loss: 2.0452\n",
      "Epoch 3/30\n",
      "117/117 [==============================] - 1s 11ms/step - loss: 1.6179\n",
      "Epoch 4/30\n",
      "117/117 [==============================] - 1s 10ms/step - loss: 1.4989\n",
      "Epoch 5/30\n",
      "117/117 [==============================] - 1s 11ms/step - loss: 1.3930\n",
      "Epoch 6/30\n",
      "117/117 [==============================] - 1s 11ms/step - loss: 1.3488: 0s - loss: 1 - ETA: 0s - loss: 1.\n",
      "Epoch 7/30\n",
      "117/117 [==============================] - 1s 11ms/step - loss: 1.2847\n",
      "Epoch 8/30\n",
      "117/117 [==============================] - 1s 11ms/step - loss: 1.2269\n",
      "Epoch 9/30\n",
      "117/117 [==============================] - 1s 11ms/step - loss: 1.1425\n",
      "Epoch 10/30\n",
      "117/117 [==============================] - 1s 11ms/step - loss: 1.0776\n",
      "Epoch 11/30\n",
      "117/117 [==============================] - 1s 10ms/step - loss: 0.9997\n",
      "Epoch 12/30\n",
      "117/117 [==============================] - 1s 11ms/step - loss: 0.9346\n",
      "Epoch 13/30\n",
      "117/117 [==============================] - 1s 11ms/step - loss: 0.8473: 0s -\n",
      "Epoch 14/30\n",
      "117/117 [==============================] - 1s 11ms/step - loss: 0.7872: 0s - los\n",
      "Epoch 15/30\n",
      "117/117 [==============================] - 1s 10ms/step - loss: 0.7157\n",
      "Epoch 16/30\n",
      "117/117 [==============================] - 1s 11ms/step - loss: 0.6466\n",
      "Epoch 17/30\n",
      "117/117 [==============================] - 1s 10ms/step - loss: 0.6048\n",
      "Epoch 18/30\n",
      "117/117 [==============================] - 1s 10ms/step - loss: 0.5759\n",
      "Epoch 19/30\n",
      "117/117 [==============================] - 1s 11ms/step - loss: 0.5464\n",
      "Epoch 20/30\n",
      "117/117 [==============================] - 1s 11ms/step - loss: 0.5244\n",
      "Epoch 21/30\n",
      "117/117 [==============================] - 1s 10ms/step - loss: 0.5087\n",
      "Epoch 22/30\n",
      "117/117 [==============================] - 1s 9ms/step - loss: 0.4882\n",
      "Epoch 23/30\n",
      "117/117 [==============================] - 1s 9ms/step - loss: 0.4886\n",
      "Epoch 24/30\n",
      "117/117 [==============================] - 1s 10ms/step - loss: 0.4703\n",
      "Epoch 25/30\n",
      "117/117 [==============================] - 1s 9ms/step - loss: 0.4649\n",
      "Epoch 26/30\n",
      "117/117 [==============================] - 1s 9ms/step - loss: 0.4543\n",
      "Epoch 27/30\n",
      "117/117 [==============================] - 1s 9ms/step - loss: 0.4421\n",
      "Epoch 28/30\n",
      "117/117 [==============================] - 1s 9ms/step - loss: 0.4355\n",
      "Epoch 29/30\n",
      "117/117 [==============================] - 1s 9ms/step - loss: 0.4371\n",
      "Epoch 30/30\n",
      "117/117 [==============================] - 1s 9ms/step - loss: 0.4308\n",
      "              precision    recall  f1-score   support\n",
      "\n",
      "      benign     0.9997    0.9466    0.9724     15000\n",
      "      vandal     0.1265    0.9667    0.2237       120\n",
      "\n",
      "    accuracy                         0.9468     15120\n",
      "   macro avg     0.5631    0.9566    0.5981     15120\n",
      "weighted avg     0.9928    0.9468    0.9665     15120\n",
      "\n",
      "[14199, 801, 4, 116, 0.9854177777777777, 0.24843163936386395, 0.9565972088606574]\n"
     ]
    }
   ],
   "source": [
    "all_res = []\n",
    "for run in range(1):\n",
    "    model = deviation_network(2)\n",
    "    train_data_x, train_data_y = sample_shuffle_spv(train_data_x, train_data_y)\n",
    "    test_data_x, test_data_y = sample_shuffle_spv(test_data_x, test_data_y)\n",
    "    MAX_INT = np.iinfo(np.int32).max\n",
    "    outlier_indices = np.where(train_data_y == 1)[0]\n",
    "    inlier_indices = np.where(train_data_y == 0)[0]\n",
    "    rng = np.random.RandomState(42)\n",
    "    nb_batch = int(len(train_data_x)/128)\n",
    "    model.fit_generator(batch_generator_sup(train_data_x, outlier_indices, inlier_indices, 256, nb_batch, rng),steps_per_epoch = nb_batch,\n",
    "                                              epochs = 30) \n",
    "    scores = model.predict(test_data_x)\n",
    "    test_out = np.int64(scores>=norm.ppf(0.999))\n",
    "    conf_mat = classification_report(test_data_y, test_out, target_names=['benign', 'vandal'], digits=4)\n",
    "    print(conf_mat)\n",
    "    cm = confusion_matrix(test_data_y, test_out, labels=[0, 1])\n",
    "    m = list(filter(None, conf_mat.strip().split(\" \")))\n",
    "    precision, recall, threshold = precision_recall_curve(test_data_y, scores)\n",
    "    pr_auc = auc(recall, precision) \n",
    "    res = [cm[0][0],cm[0][1],cm[1][0],cm[1][1],roc_auc_score(test_data_y,scores),pr_auc,np.sqrt(float(m[6])*float(m[11]))]\n",
    "    print(res)\n",
    "    all_res.append(res)"
   ]
  },
  {
   "cell_type": "code",
   "execution_count": 13,
   "metadata": {},
   "outputs": [
    {
     "data": {
      "text/plain": [
       "array([1.41990000e+04, 8.01000000e+02, 4.00000000e+00, 1.16000000e+02,\n",
       "       9.85417778e-01, 2.48431639e-01, 9.56597209e-01])"
      ]
     },
     "execution_count": 13,
     "metadata": {},
     "output_type": "execute_result"
    }
   ],
   "source": [
    "np.mean(all_res,axis =0)"
   ]
  },
  {
   "cell_type": "markdown",
   "metadata": {},
   "source": [
    "##### 训练集可视化"
   ]
  },
  {
   "cell_type": "code",
   "execution_count": 14,
   "metadata": {},
   "outputs": [
    {
     "name": "stdout",
     "output_type": "stream",
     "text": [
      "              precision    recall  f1-score   support\n",
      "\n",
      "      benign     0.9999    0.9436    0.9709     15000\n",
      "      vandal     0.0854    0.9875    0.1572        80\n",
      "\n",
      "    accuracy                         0.9438     15080\n",
      "   macro avg     0.5427    0.9656    0.5641     15080\n",
      "weighted avg     0.9951    0.9438    0.9666     15080\n",
      "\n",
      "[14154, 846, 1, 79, 0.9845991666666667, 0.15892604180496148, 0.96530047135594]\n"
     ]
    }
   ],
   "source": [
    "scores = model.predict(train_data_x)\n",
    "test_out = np.int64(scores>=norm.ppf(0.999))\n",
    "conf_mat = classification_report(train_data_y, test_out, target_names=['benign', 'vandal'], digits=4)\n",
    "print(conf_mat)\n",
    "cm = confusion_matrix(train_data_y, test_out, labels=[0, 1])\n",
    "m = list(filter(None, conf_mat.strip().split(\" \")))\n",
    "precision, recall, threshold = precision_recall_curve(train_data_y, scores)\n",
    "pr_auc = auc(recall, precision) \n",
    "res = [cm[0][0],cm[0][1],cm[1][0],cm[1][1],roc_auc_score(train_data_y,scores),pr_auc,np.sqrt(float(m[6])*float(m[11]))]\n",
    "print(res)"
   ]
  },
  {
   "cell_type": "markdown",
   "metadata": {},
   "source": [
    "###### 测试集可视化"
   ]
  },
  {
   "cell_type": "code",
   "execution_count": 18,
   "metadata": {},
   "outputs": [
    {
     "name": "stdout",
     "output_type": "stream",
     "text": [
      "              precision    recall  f1-score   support\n",
      "\n",
      "      benign     0.9997    0.9466    0.9724     15000\n",
      "      vandal     0.1265    0.9667    0.2237       120\n",
      "\n",
      "    accuracy                         0.9468     15120\n",
      "   macro avg     0.5631    0.9566    0.5981     15120\n",
      "weighted avg     0.9928    0.9468    0.9665     15120\n",
      "\n",
      "[14199, 801, 4, 116, 0.9854177777777777, 0.24843163936386395, 0.9565972088606574]\n"
     ]
    }
   ],
   "source": [
    "scores = model.predict(test_data_x)\n",
    "test_out = np.int64(scores>=norm.ppf(0.999))\n",
    "conf_mat = classification_report(test_data_y, test_out, target_names=['benign', 'vandal'], digits=4)\n",
    "print(conf_mat)\n",
    "cm = confusion_matrix(test_data_y, test_out, labels=[0, 1])\n",
    "m = list(filter(None, conf_mat.strip().split(\" \")))\n",
    "precision, recall, threshold = precision_recall_curve(test_data_y, scores)\n",
    "pr_auc = auc(recall, precision) \n",
    "res = [cm[0][0],cm[0][1],cm[1][0],cm[1][1],roc_auc_score(test_data_y,scores),pr_auc,np.sqrt(float(m[6])*float(m[11]))]\n",
    "print(res)"
   ]
  },
  {
   "cell_type": "code",
   "execution_count": 19,
   "metadata": {},
   "outputs": [
    {
     "name": "stdout",
     "output_type": "stream",
     "text": [
      "(120,) (15000,)\n",
      "801 116\n",
      "4 14199\n"
     ]
    }
   ],
   "source": [
    "true_positive_index = np.where((test_data_y == 1))[0]\n",
    "true_negative_index = np.where((test_data_y == 0))[0]\n",
    "print(true_positive_index.shape,true_negative_index.shape)\n",
    "predict_positive_index = np.where((test_out == 1))[0]\n",
    "test_FP_index = []\n",
    "test_TP_index = []\n",
    "for i in predict_positive_index:\n",
    "    if i not in true_positive_index:\n",
    "        test_FP_index.append(i)\n",
    "    else:\n",
    "        test_TP_index.append(i)\n",
    "print(len(test_FP_index),len(test_TP_index))\n",
    "\n",
    "predict_negative_index = np.where((test_out == 0))[0]\n",
    "test_FN_index = []\n",
    "test_TN_index = []\n",
    "for i in predict_negative_index:\n",
    "    if i not in true_negative_index:\n",
    "        test_FN_index.append(i)\n",
    "    else:\n",
    "        test_TN_index.append(i)\n",
    "print(len(test_FN_index),len(test_TN_index))"
   ]
  },
  {
   "cell_type": "code",
   "execution_count": 20,
   "metadata": {},
   "outputs": [
    {
     "data": {
      "image/png": "[encoded data removed]",
      "text/plain": [
       "<Figure size 432x288 with 1 Axes>"
      ]
     },
     "metadata": {
      "needs_background": "light"
     },
     "output_type": "display_data"
    }
   ],
   "source": [
    "plt.scatter(test_data_x[test_TN_index, 0], test_data_x[test_TN_index, 1], c='orange',  marker='+')\n",
    "plt.scatter(test_data_x[test_TP_index, 0], test_data_x[test_TP_index, 1], c='blue',  marker='o')\n",
    "plt.scatter(test_data_x[test_FP_index, 0], test_data_x[test_FP_index, 1], c='red',  marker='+')\n",
    "plt.scatter(test_data_x[test_FN_index, 0], test_data_x[test_FN_index, 1], c='black',  marker='o')\n",
    "plt.show()"
   ]
  },
  {
   "cell_type": "code",
   "execution_count": null,
   "metadata": {},
   "outputs": [],
   "source": []
  },
  {
   "cell_type": "code",
   "execution_count": null,
   "metadata": {},
   "outputs": [],
   "source": []
  },
  {
   "cell_type": "markdown",
   "metadata": {},
   "source": [
    "# PIA-WAL"
   ]
  },
  {
   "cell_type": "code",
   "execution_count": 59,
   "metadata": {},
   "outputs": [],
   "source": [
    "def inf_hard_normal_weight_train_gen(BATCH_SIZE,normal_scores,normal_data_):\n",
    "    indicator = np.sign(np.abs(normal_scores) - 5.0)\n",
    "    condition = np.greater(indicator, np.zeros_like(indicator))\n",
    "    mask_tar = np.where(condition, np.zeros_like(indicator),np.tanh(np.abs(normal_scores)))\n",
    "    dataset = []\n",
    "    weights = []\n",
    "    while True:\n",
    "        for idx in range(len(normal_data_)):\n",
    "            tar = random.random()\n",
    "            if mask_tar[idx]>tar:\n",
    "                dataset.append(normal_data_[idx])\n",
    "                weights.append(np.abs(normal_scores[idx]))\n",
    "            if len(dataset)==BATCH_SIZE:\n",
    "                dataset = np.array(dataset, dtype='float32')\n",
    "                weights = np.array(weights, dtype='float32')\n",
    "#                 print(i)\n",
    "                yield dataset,weights\n",
    "                dataset = []\n",
    "                weights = []"
   ]
  },
  {
   "cell_type": "code",
   "execution_count": 60,
   "metadata": {},
   "outputs": [],
   "source": [
    "class WGANGP():\n",
    "    def __init__(self):\n",
    "        self.latent_dim = 2\n",
    "        self.input_dim = 2\n",
    "        self.n_critic = 5\n",
    "        self.batch_size = 256\n",
    "        optimizer = Adam(0.0001, beta_1=0.5, beta_2=0.9)\n",
    "        self.generator = self.build_generator()\n",
    "        self.critic = self.build_critic()\n",
    "        \n",
    "        self.generator.trainable = False\n",
    "        \n",
    "        real_data = Input(shape = (self.input_dim,))\n",
    "        z_disc = Input(shape = (self.latent_dim,))\n",
    "        hard_weight = Input(shape = (1,))\n",
    "        \n",
    "        fake_data = self.generator(z_disc)\n",
    "        \n",
    "        disc_real = self.critic(real_data) * hard_weight\n",
    "        disc_fake = self.critic(fake_data) * hard_weight\n",
    "        \n",
    "        alpha = K.random_uniform([self.batch_size,1], 0, 1)\n",
    "        interpolates = alpha * real_data  + (1 - alpha) * fake_data \n",
    "        disc_interpolates = self.critic(interpolates)\n",
    "        partial_gp_loss = partial(self.gradient_penalty_loss,averaged_samples=interpolates, hard_weight_=hard_weight)\n",
    "        partial_gp_loss.__name__ = 'gradient_penalty'\n",
    "        \n",
    "        self.critic_model = Model(inputs=[real_data,z_disc,hard_weight],\n",
    "                                  outputs=[disc_real,disc_fake,disc_interpolates])\n",
    "        self.critic_model.compile(loss=[self.wasserstein_loss,\n",
    "                                        self.wasserstein_loss,\n",
    "                                        partial_gp_loss],optimizer=optimizer,\n",
    "                                        loss_weights=[1, 1, 0.1])\n",
    "        \n",
    "        self.critic.trainable = False\n",
    "        self.generator.trainable = True\n",
    "        \n",
    "        z_gen = Input(shape=(self.latent_dim,))\n",
    "        generate_data = self.generator(z_gen)\n",
    "        disc_generate = self.critic(generate_data)\n",
    "        self.generator_model = Model(z_gen,disc_generate)\n",
    "        self.generator_model.compile(loss=self.wasserstein_loss, optimizer=optimizer)\n",
    "        \n",
    "    def gradient_penalty_loss(self, y_true, y_pred, averaged_samples,hard_weight_):\n",
    "        \"\"\"\n",
    "        Computes gradient penalty based on prediction and weighted real / fake samples\n",
    "        \"\"\"\n",
    "        gradients = K.gradients(y_pred, averaged_samples)[0]\n",
    "        # compute the euclidean norm by squaring ...\n",
    "        gradients_sqr = K.square(gradients)\n",
    "        #   ... summing over the rows ...\n",
    "        gradients_sqr_sum = K.sum(gradients_sqr,\n",
    "                                  axis=np.arange(1, len(gradients_sqr.shape)))\n",
    "        #   ... and sqrt\n",
    "        gradient_l2_norm = K.sqrt(gradients_sqr_sum)\n",
    "        # compute lambda * (1 - ||grad||)^2 still for each single sample\n",
    "        gradient_penalty = K.square(1 - gradient_l2_norm)\n",
    "        # return the mean as loss over all the batch samples\n",
    "        return K.mean(hard_weight_ * gradient_penalty)\n",
    "    \n",
    "    def wasserstein_loss(self, y_true, y_pred):\n",
    "        return K.mean(y_pred * y_true)\n",
    "    \n",
    "    def build_generator(self):\n",
    "        model = Sequential()\n",
    "        model.add(Dense(512,activation=\"relu\",input_dim=self.latent_dim))\n",
    "        model.add(Dense(512,activation=\"relu\"))\n",
    "        model.add(Dense(512,activation=\"relu\"))\n",
    "        model.add(Dense(2,activation=\"linear\"))\n",
    "        model.summary()\n",
    "        \n",
    "        noise = Input(shape=(self.latent_dim,))\n",
    "        output = model(noise)\n",
    "        \n",
    "        return Model(noise,output)\n",
    "    \n",
    "    def build_critic(self):\n",
    "        model = Sequential()\n",
    "        model.add(Dense(512,activation=\"relu\",input_dim=self.input_dim))\n",
    "        model.add(Dense(512,activation=\"relu\"))\n",
    "        model.add(Dense(512,activation=\"relu\"))\n",
    "        model.add(Dense(1,activation=\"linear\"))\n",
    "        model.summary()\n",
    "        \n",
    "        inputs = Input(shape=(self.input_dim,))\n",
    "        output = model(inputs)\n",
    "        \n",
    "        return Model(inputs,output)\n",
    "    \n",
    "    def inf_train_gen(self,BATCH_SIZE):\n",
    "        while True:\n",
    "            data = sklearn.datasets.make_swiss_roll(\n",
    "                n_samples=BATCH_SIZE, \n",
    "                noise=0.25\n",
    "            )[0]\n",
    "            data = data.astype('float32')[:, [0, 2]]\n",
    "            data /= 7.5 # stdev plus a little\n",
    "            yield data\n",
    "    \n",
    "    def train(self, epochs, batch_size, weight_model,x):\n",
    "        np.random.shuffle(x)\n",
    "        x_scores = weight_model.predict(x)\n",
    "        gen = inf_hard_normal_weight_train_gen(batch_size, x_scores, x)\n",
    "        real_label = -np.ones((batch_size,1))\n",
    "        fake_label = np.ones((batch_size,1))\n",
    "        dummy = np.zeros((batch_size,1))\n",
    "        for epoch in range(epochs):\n",
    "            for _ in range(self.n_critic):\n",
    "                _data,_weight = gen.__next__()\n",
    "                _noise = np.random.normal(0, 1, (batch_size, self.latent_dim))\n",
    "                d_loss = self.critic_model.train_on_batch([_data, _noise, _weight],\n",
    "                                                                [real_label, fake_label, dummy])\n",
    "                \n",
    "            g_loss = self.generator_model.train_on_batch(_noise, real_label)\n",
    "            \n",
    "        print (\"%d [D loss: %f] [G loss: %f]\" % (epoch, d_loss[0], g_loss))\n",
    "        return d_loss[0]"
   ]
  },
  {
   "cell_type": "code",
   "execution_count": 61,
   "metadata": {
    "scrolled": true
   },
   "outputs": [
    {
     "name": "stdout",
     "output_type": "stream",
     "text": [
      "Model: \"sequential_6\"\n",
      "_________________________________________________________________\n",
      "Layer (type)                 Output Shape              Param #   \n",
      "=================================================================\n",
      "dense_24 (Dense)             (None, 512)               1536      \n",
      "_________________________________________________________________\n",
      "dense_25 (Dense)             (None, 512)               262656    \n",
      "_________________________________________________________________\n",
      "dense_26 (Dense)             (None, 512)               262656    \n",
      "_________________________________________________________________\n",
      "dense_27 (Dense)             (None, 2)                 1026      \n",
      "=================================================================\n",
      "Total params: 527,874\n",
      "Trainable params: 527,874\n",
      "Non-trainable params: 0\n",
      "_________________________________________________________________\n",
      "Model: \"sequential_7\"\n",
      "_________________________________________________________________\n",
      "Layer (type)                 Output Shape              Param #   \n",
      "=================================================================\n",
      "dense_28 (Dense)             (None, 512)               1536      \n",
      "_________________________________________________________________\n",
      "dense_29 (Dense)             (None, 512)               262656    \n",
      "_________________________________________________________________\n",
      "dense_30 (Dense)             (None, 512)               262656    \n",
      "_________________________________________________________________\n",
      "dense_31 (Dense)             (None, 1)                 513       \n",
      "=================================================================\n",
      "Total params: 527,361\n",
      "Trainable params: 527,361\n",
      "Non-trainable params: 0\n",
      "_________________________________________________________________\n",
      "0********************\n",
      "1.391015\n",
      "14675 325 61 59 0.7733194444444443 0.22696056455163155 0.6935633424569093\n",
      "1.3910150527954102\n",
      "1********************\n",
      "199 [D loss: -1.106062] [G loss: 8.950802]\n",
      "1.1559863\n",
      "14513 487 54 66 0.873386111111111 0.2272211033313294 0.7294689849472697\n",
      "2.2620487\n",
      "2********************\n",
      "199 [D loss: -4.485106] [G loss: 19.464828]\n",
      "1.0655032\n",
      "12628 2372 21 99 0.8683083333333335 0.27162257633925313 0.8334071633961397\n",
      "5.5506086\n",
      "3********************\n",
      "199 [D loss: -11.488739] [G loss: 93.435913]\n",
      "0.73969615\n",
      "13090 1910 13 107 0.9232622222222222 0.26210633876492123 0.8821488479842844\n",
      "12.2284355\n",
      "4********************\n",
      "199 [D loss: -3.924280] [G loss: 129.423157]\n",
      "0.6751045\n",
      "13621 1379 7 113 0.966845 0.2728402834334206 0.9247474087554937\n",
      "4.599385\n",
      "5********************\n",
      "199 [D loss: -2.290393] [G loss: 108.631248]\n",
      "0.54049426\n",
      "13722 1278 2 118 0.9849188888888889 0.29163920807986526 0.9484317793072942\n",
      "2.8308868\n",
      "6********************\n",
      "199 [D loss: 0.554484] [G loss: 80.244759]\n",
      "0.6278211\n",
      "14262 738 1 119 0.9865177777777777 0.28784484350074585 0.9710346852713346\n",
      "1.1823049\n",
      "7********************\n",
      "199 [D loss: -0.790720] [G loss: 56.510101]\n",
      "0.64107215\n",
      "14142 858 0 120 0.9890236111111111 0.32764363231761773 0.9709788875150684\n",
      "1.4317926\n",
      "8********************\n",
      "199 [D loss: -0.337774] [G loss: 40.293671]\n",
      "0.71767807\n",
      "14348 652 1 119 0.9889383333333333 0.3244919287626934 0.9739409889721246\n",
      "1.055452\n",
      "9********************\n",
      "199 [D loss: -2.974341] [G loss: 58.064602]\n",
      "0.37344846\n",
      "14021 979 0 120 0.9906922222222222 0.3597929252584537 0.966798841538404\n",
      "3.3477898\n",
      "10********************\n",
      "199 [D loss: 0.440158] [G loss: 37.436745]\n",
      "0.6017228\n",
      "14296 704 1 119 0.990225 0.34731701824922356 0.9722084498707054\n",
      "1.0418808\n",
      "11********************\n",
      "199 [D loss: -0.333265] [G loss: 50.389763]\n",
      "0.71309865\n",
      "14379 621 4 116 0.9893372222222221 0.32709790370611386 0.962641480510787\n",
      "1.0463637\n",
      "12********************\n",
      "199 [D loss: -2.741382] [G loss: 79.634537]\n",
      "0.27708587\n",
      "14101 899 0 120 0.9901577777777778 0.3437252850911802 0.9695875411740809\n",
      "3.0184674\n",
      "13********************\n",
      "199 [D loss: 0.519115] [G loss: 44.576935]\n",
      "0.67909896\n",
      "14365 635 4 116 0.9888250000000001 0.314998255418362 0.9621894771821193\n",
      "1.1982136\n",
      "14********************\n",
      "199 [D loss: 0.699500] [G loss: 58.923038]\n",
      "0.57148564\n",
      "14389 611 4 116 0.9895938888888888 0.3301240816534192 0.9629928919779212\n",
      "1.2709861\n",
      "15********************\n",
      "199 [D loss: -1.558125] [G loss: 28.526226]\n",
      "0.46703485\n",
      "14308 692 3 117 0.9900766666666667 0.3426510539177444 0.96439229569714\n",
      "2.0251598\n",
      "16********************\n",
      "199 [D loss: -3.717691] [G loss: 18.162657]\n",
      "0.2466691\n",
      "14188 812 1 119 0.9902427777777778 0.34283550847668487 0.9685293129275954\n",
      "3.9643605\n",
      "17********************\n",
      "199 [D loss: 0.288743] [G loss: 28.721111]\n",
      "0.7655465\n",
      "14460 540 5 115 0.9906366666666665 0.36450564656759415 0.9611457745836476\n",
      "1.0542897\n",
      "18********************\n",
      "199 [D loss: -2.329690] [G loss: 50.856068]\n",
      "0.3427433\n",
      "14192 808 1 119 0.9909494444444447 0.3636246019806858 0.9686316998735898\n",
      "2.672433\n",
      "19********************\n",
      "199 [D loss: -2.067525] [G loss: 54.874619]\n",
      "0.2720122\n",
      "14265 735 2 118 0.9905061111111111 0.34672476800109475 0.9670151498296188\n",
      "2.3395371\n",
      "20********************\n",
      "199 [D loss: -2.193944] [G loss: 38.022217]\n",
      "0.29505026\n",
      "14167 833 1 119 0.9908355555555556 0.364546377935849 0.9678123010170929\n",
      "2.4889936\n",
      "21********************\n",
      "199 [D loss: -0.491279] [G loss: 43.403809]\n",
      "0.48980778\n",
      "14459 541 3 117 0.9904850000000001 0.3522383321381536 0.9694341132846522\n",
      "0.9810868\n",
      "22********************\n",
      "199 [D loss: -2.630990] [G loss: 8.286180]\n",
      "0.25392258\n",
      "14262 738 2 118 0.9910050000000001 0.36626382925634676 0.9669134604503135\n",
      "2.884913\n",
      "23********************\n",
      "199 [D loss: -0.052782] [G loss: 40.984268]\n",
      "0.68628424\n",
      "14549 451 7 113 0.99018 0.3524825328405802 0.9556959924578526\n",
      "0.73906654\n",
      "24********************\n",
      "199 [D loss: 0.137489] [G loss: 12.391120]\n",
      "0.7897416\n",
      "14572 428 5 115 0.9912527777777778 0.38467415911632413 0.964877427448689\n",
      "0.92723024\n",
      "25********************\n",
      "199 [D loss: 0.415370] [G loss: 4.800231]\n",
      "0.60123616\n",
      "14563 437 4 116 0.9912700000000001 0.3775802801428239 0.9687977239857658\n",
      "1.0166062\n",
      "26********************\n",
      "199 [D loss: 0.853028] [G loss: 15.964954]\n",
      "0.53633535\n",
      "14436 564 3 117 0.9921127777777778 0.40777966424665646 0.968679513564729\n",
      "1.3893632\n",
      "27********************\n",
      "199 [D loss: -0.941824] [G loss: 29.247631]\n",
      "0.36524495\n",
      "14478 522 3 117 0.99154 0.3800551024505658 0.9700876249081832\n",
      "1.3070692\n",
      "28********************\n",
      "199 [D loss: 1.613739] [G loss: 21.165915]\n",
      "0.3432256\n",
      "14357 643 2 118 0.992041111111111 0.4019148434237696 0.9701115554409193\n",
      "1.9569644\n",
      "29********************\n",
      "199 [D loss: 0.200030] [G loss: 9.443228]\n",
      "0.6936045\n",
      "14667 333 8 112 0.9911133333333334 0.3699350766883006 0.9552909190398493\n",
      "0.8936347\n",
      "[14667, 333, 8, 112, 0.9911133333333334, 0.3699350766883006, 0.9552909190398493]\n"
     ]
    }
   ],
   "source": [
    "random_seed = 42\n",
    "MAX_INT = np.iinfo(np.int32).max\n",
    "all_res_4 = []\n",
    "d_loss_list = []\n",
    "disc_loss_list = []\n",
    "all_loss_list = []\n",
    "for run in np.arange(1):\n",
    "    rng = np.random.RandomState(random_seed)\n",
    "    input_shape = train_data_x.shape[1:]\n",
    "    \n",
    "    epochs = 30\n",
    "    batch_size = 128\n",
    "    nb_batch = int(len(train_data_x)/batch_size)\n",
    "    model = deviation_network(input_shape)\n",
    "    gen_normal = inf_normal_train_gen(batch_size,train_normal_data)\n",
    "    gen_vandal = inf_vandal_train_gen(batch_size,train_vandal_data)\n",
    "    min_loss = MAX_INT\n",
    "    wgan = WGANGP()\n",
    "    for i in range(30):\n",
    "        print(str(i)+'*'*20)\n",
    "        if i !=0:\n",
    "            disc_loss = np.abs(wgan.train(epochs=200, batch_size=256,weight_model=model, x = train_normal_data))\n",
    "            generator_quality = np.exp(-disc_loss)\n",
    "        else:\n",
    "            disc_loss = 0\n",
    "        for j in range(nb_batch):\n",
    "            normal_data_batch = gen_normal.__next__()\n",
    "            normal_data_label = np.zeros((batch_size,1))\n",
    "            normal_data_weight = np.ones(batch_size)\n",
    "            vandal_data_batch = gen_vandal.__next__()\n",
    "            vandal_data_label = np.ones((batch_size,1))\n",
    "            vandal_data_weight = np.ones(batch_size)\n",
    "            \n",
    "            if i == 0: ###修改了这里\n",
    "                data_batch = np.vstack((normal_data_batch,vandal_data_batch))\n",
    "                data_label = np.vstack((normal_data_label,vandal_data_label))\n",
    "                data_weight = np.hstack((normal_data_weight,vandal_data_weight))\n",
    "                \n",
    "            else:\n",
    "                _noise = np.random.normal(0, 1, (int(batch_size/2), 2))## 真实正常和生成正常各占一半\n",
    "                fake_data_batch = wgan.generator.predict(_noise)\n",
    "                fake_data_label = np.zeros((int(batch_size/2),1))\n",
    "                fake_data_weight = generator_quality * np.ones(int(batch_size/2))\n",
    "                data_batch = np.vstack((normal_data_batch[:int(batch_size/2)],vandal_data_batch,fake_data_batch))\n",
    "                data_label = np.vstack((normal_data_label[:int(batch_size/2)],vandal_data_label,fake_data_label))\n",
    "                data_weight = np.hstack((normal_data_weight[:int(batch_size/2)],vandal_data_weight,fake_data_weight))\n",
    "                \n",
    "            data_batch, data_label,data_weight = sample_shuffle_uspv(data_batch,data_label,data_weight)\n",
    "            #给样本加入权重\n",
    "            d_loss = model.train_on_batch(data_batch, data_label,sample_weight = data_weight)\n",
    "        \n",
    "        print(d_loss)\n",
    "        scores = model.predict(test_data_x)\n",
    "        test_out = np.int64(scores>=norm.ppf(0.999))\n",
    "        conf_mat = classification_report(test_data_y, test_out, target_names=['benign', 'vandal'], digits=4)\n",
    "        cm = confusion_matrix(test_data_y, test_out, labels=[0, 1])\n",
    "        m = list(filter(None, conf_mat.strip().split(\" \")))\n",
    "        precision, recall, threshold = precision_recall_curve(test_data_y, scores)\n",
    "        pr_auc = auc(recall, precision) \n",
    "        print(cm[0][0],cm[0][1],cm[1][0],cm[1][1],roc_auc_score(test_data_y,scores),pr_auc,np.sqrt(float(m[6])*float(m[11])))\n",
    "        \n",
    "        all_loss = d_loss + disc_loss\n",
    "        d_loss_list.append(d_loss)\n",
    "        disc_loss_list.append(disc_loss)\n",
    "        all_loss_list.append(all_loss)\n",
    "        print(all_loss)\n",
    "        if all_loss < min_loss and i>0:\n",
    "            test_noise = np.random.normal(0, 1, (2000, 2))\n",
    "            test_fake_data = wgan.generator.predict(test_noise)\n",
    "            min_loss = all_loss \n",
    "    res=[cm[0][0],cm[0][1],cm[1][0],cm[1][1],roc_auc_score(test_data_y,scores),pr_auc,np.sqrt(float(m[6])*float(m[11]))]     \n",
    "    print(res)\n",
    "    all_res_4.append(res)"
   ]
  },
  {
   "cell_type": "code",
   "execution_count": 73,
   "metadata": {},
   "outputs": [
    {
     "data": {
      "image/png": "[encoded data removed]",
      "text/plain": [
       "<Figure size 432x288 with 1 Axes>"
      ]
     },
     "metadata": {
      "needs_background": "light"
     },
     "output_type": "display_data"
    }
   ],
   "source": [
    "test_noise = np.random.normal(0, 1, (3000, 2))\n",
    "test_fake_data = wgan.generator.predict(test_noise)\n",
    "\n",
    "plt.scatter(train_normal_data[:, 0], train_normal_data[:, 1], c='orange',  marker='+')\n",
    "plt.scatter(test_fake_data[:, 0],    test_fake_data[:, 1],    c='green', marker='.')\n",
    "plt.show()"
   ]
  },
  {
   "cell_type": "markdown",
   "metadata": {},
   "source": [
    "###### 测试集可视化"
   ]
  },
  {
   "cell_type": "code",
   "execution_count": 68,
   "metadata": {},
   "outputs": [
    {
     "name": "stdout",
     "output_type": "stream",
     "text": [
      "              precision    recall  f1-score   support\n",
      "\n",
      "      benign     0.9995    0.9778    0.9885     15000\n",
      "      vandal     0.2517    0.9333    0.3965       120\n",
      "\n",
      "    accuracy                         0.9774     15120\n",
      "   macro avg     0.6256    0.9556    0.6925     15120\n",
      "weighted avg     0.9935    0.9774    0.9838     15120\n",
      "\n",
      "[14667, 333, 8, 112, 0.9911133333333334, 0.3699350766883006, 0.9552909190398493]\n"
     ]
    }
   ],
   "source": [
    "scores = model.predict(test_data_x)\n",
    "test_out = np.int64(scores>=norm.ppf(0.999))\n",
    "conf_mat = classification_report(test_data_y, test_out, target_names=['benign', 'vandal'], digits=4)\n",
    "print(conf_mat)\n",
    "cm = confusion_matrix(test_data_y, test_out, labels=[0, 1])\n",
    "m = list(filter(None, conf_mat.strip().split(\" \")))\n",
    "precision, recall, threshold = precision_recall_curve(test_data_y, scores)\n",
    "pr_auc = auc(recall, precision) \n",
    "res = [cm[0][0],cm[0][1],cm[1][0],cm[1][1],roc_auc_score(test_data_y,scores),pr_auc,np.sqrt(float(m[6])*float(m[11]))]\n",
    "print(res)"
   ]
  },
  {
   "cell_type": "code",
   "execution_count": 69,
   "metadata": {},
   "outputs": [
    {
     "name": "stdout",
     "output_type": "stream",
     "text": [
      "(120,) (15000,)\n",
      "333 112\n",
      "8 14667\n"
     ]
    }
   ],
   "source": [
    "true_positive_index = np.where((test_data_y == 1))[0]\n",
    "true_negative_index = np.where((test_data_y == 0))[0]\n",
    "print(true_positive_index.shape,true_negative_index.shape)\n",
    "predict_positive_index = np.where((test_out == 1))[0]\n",
    "test_FP_index = []\n",
    "test_TP_index = []\n",
    "for i in predict_positive_index:\n",
    "    if i not in true_positive_index:\n",
    "        test_FP_index.append(i)\n",
    "    else:\n",
    "        test_TP_index.append(i)\n",
    "print(len(test_FP_index),len(test_TP_index))\n",
    "\n",
    "predict_negative_index = np.where((test_out == 0))[0]\n",
    "test_FN_index = []\n",
    "test_TN_index = []\n",
    "for i in predict_negative_index:\n",
    "    if i not in true_negative_index:\n",
    "        test_FN_index.append(i)\n",
    "    else:\n",
    "        test_TN_index.append(i)\n",
    "print(len(test_FN_index),len(test_TN_index))"
   ]
  },
  {
   "cell_type": "code",
   "execution_count": 70,
   "metadata": {},
   "outputs": [
    {
     "data": {
      "image/png": "[encoded data removed]",
      "text/plain": [
       "<Figure size 432x288 with 1 Axes>"
      ]
     },
     "metadata": {
      "needs_background": "light"
     },
     "output_type": "display_data"
    }
   ],
   "source": [
    "plt.scatter(test_data_x[test_TN_index, 0], test_data_x[test_TN_index, 1], c='orange',  marker='+')\n",
    "plt.scatter(test_data_x[test_TP_index, 0], test_data_x[test_TP_index, 1], c='blue',  marker='o')\n",
    "plt.scatter(test_data_x[test_FP_index, 0], test_data_x[test_FP_index, 1], c='red',  marker='+')\n",
    "plt.scatter(test_data_x[test_FN_index, 0], test_data_x[test_FN_index, 1], c='black',  marker='o')\n",
    "plt.show()"
   ]
  },
  {
   "cell_type": "code",
   "execution_count": null,
   "metadata": {},
   "outputs": [],
   "source": []
  }
 ],
 "metadata": {
  "kernelspec": {
   "display_name": "sqb",
   "language": "python",
   "name": "sqb"
  },
  "language_info": {
   "codemirror_mode": {
    "name": "ipython",
    "version": 3
   },
   "file_extension": ".py",
   "mimetype": "text/x-python",
   "name": "python",
   "nbconvert_exporter": "python",
   "pygments_lexer": "ipython3",
   "version": "3.6.2"
  }
 },
 "nbformat": 4,
 "nbformat_minor": 4
}
